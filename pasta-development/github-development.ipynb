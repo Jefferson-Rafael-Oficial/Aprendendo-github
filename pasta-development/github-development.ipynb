{
 "cells": [
  {
   "cell_type": "code",
   "execution_count": 1,
   "metadata": {},
   "outputs": [
    {
     "name": "stdout",
     "output_type": "stream",
     "text": [
      "[0, 1, 3, 6, 10, 15, 21, 28, 36, 45]\n"
     ]
    }
   ],
   "source": [
    "lista = []\n",
    "a = 0\n",
    "for i in range(10):\n",
    "    a += i\n",
    "    lista.append(a)\n",
    "\n",
    "print(lista)"
   ]
  }
 ],
 "metadata": {
  "interpreter": {
   "hash": "33f60ada2f0aff3080e0360b5db9e96f3b69d573130485e475b6fee33ea624aa"
  },
  "kernelspec": {
   "display_name": "Python 3.8.8 ('base')",
   "language": "python",
   "name": "python3"
  },
  "language_info": {
   "codemirror_mode": {
    "name": "ipython",
    "version": 3
   },
   "file_extension": ".py",
   "mimetype": "text/x-python",
   "name": "python",
   "nbconvert_exporter": "python",
   "pygments_lexer": "ipython3",
   "version": "3.8.8"
  },
  "orig_nbformat": 4
 },
 "nbformat": 4,
 "nbformat_minor": 2
}
